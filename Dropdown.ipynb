{
 "cells": [
  {
   "cell_type": "code",
   "execution_count": 2,
   "metadata": {},
   "outputs": [],
   "source": [
    "from tkinter import *\n",
    "from PIL import ImageTk,Image\n",
    "\n",
    "root = Tk()\n",
    "root.title('Villes de France')\n",
    "#root.geometry(\"800x800\")\n",
    "\n",
    "\n",
    "my_image1 = ImageTk.PhotoImage(Image.open(\"map_france_494x516.gif\"))\n",
    "my_image2 = ImageTk.PhotoImage(Image.open(\"map_france1.png\"))\n",
    "my_image3 = ImageTk.PhotoImage(Image.open(\"map_france2.png\"))\n",
    "my_image4 = ImageTk.PhotoImage(Image.open(\"map_france3.png\"))\n",
    "my_image5 = ImageTk.PhotoImage(Image.open(\"map_france4.png\"))\n",
    "\n",
    "\n",
    "image_list = [my_image1, my_image2, my_image3, my_image4, my_image5]\n",
    "my_label1 = Label(image = my_image1).grid(row =1,columns=2,columnspan=7)\n",
    "#my_label2 = Label(image = my_image2).grid(row =1,columns=2,columnspan=7)\n",
    "#my_label3 = Label(image = my_image3).grid(row =1,columns=2,columnspan=7)\n",
    "#my_label4 = Label(image = my_image4).grid(row =1,columns=2,columnspan=7)\n",
    "#my_label5 = Label(image = my_image5).grid(row =1,columns=2,columnspan=7)\n",
    "\n",
    "\n",
    "#Drop Down Boxes\n",
    "\n",
    "\n",
    "def show():\n",
    "    my_label = Label(root , text = clicked.get(())).pack()\n",
    "\n",
    "options = [\"494x516\",\n",
    "           \"742x773\",\n",
    "           \"989x1031\",\n",
    "           \"1236x1289\"]\n",
    "\n",
    "clicked = StringVar()\n",
    "clicked.set(\"Dimensions\")\n",
    "\n",
    "\n",
    "\n",
    "drop = OptionMenu(root , clicked, *options).grid(row=0,column=0)\n",
    "\n",
    "myButton = Button(root, text = \"Select\" , command =show)\n",
    "\n",
    "button_exit = Button(root, text=\"Quitter\",command=lambda:root.quit()).grid(row=3 ,columns =1 , padx=5,pady =5)\n",
    "\n",
    "root.mainloop()\n"
   ]
  },
  {
   "cell_type": "code",
   "execution_count": null,
   "metadata": {},
   "outputs": [],
   "source": [
    "\n"
   ]
  },
  {
   "cell_type": "code",
   "execution_count": null,
   "metadata": {},
   "outputs": [],
   "source": []
  },
  {
   "cell_type": "code",
   "execution_count": null,
   "metadata": {},
   "outputs": [],
   "source": []
  }
 ],
 "metadata": {
  "kernelspec": {
   "display_name": "Python 3",
   "language": "python",
   "name": "python3"
  },
  "language_info": {
   "codemirror_mode": {
    "name": "ipython",
    "version": 3
   },
   "file_extension": ".py",
   "mimetype": "text/x-python",
   "name": "python",
   "nbconvert_exporter": "python",
   "pygments_lexer": "ipython3",
   "version": "3.8.5"
  }
 },
 "nbformat": 4,
 "nbformat_minor": 4
}
